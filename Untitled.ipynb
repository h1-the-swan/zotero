{
 "cells": [
  {
   "cell_type": "code",
   "execution_count": 1,
   "metadata": {
    "collapsed": true
   },
   "outputs": [],
   "source": [
    "import os\n",
    "from bs4"
   ]
  },
  {
   "cell_type": "code",
   "execution_count": 3,
   "metadata": {
    "collapsed": false
   },
   "outputs": [],
   "source": [
    "from get_genexam_list import load_zotero, get_genexam_coll_id"
   ]
  },
  {
   "cell_type": "code",
   "execution_count": 4,
   "metadata": {
    "collapsed": true
   },
   "outputs": [],
   "source": [
    "zot = load_zotero()"
   ]
  },
  {
   "cell_type": "code",
   "execution_count": 5,
   "metadata": {
    "collapsed": false
   },
   "outputs": [],
   "source": [
    "coll_id = get_genexam_coll_id(zot)"
   ]
  },
  {
   "cell_type": "code",
   "execution_count": 6,
   "metadata": {
    "collapsed": false
   },
   "outputs": [],
   "source": [
    "subcolls = zot.collections_sub(coll_id)\n",
    "subcoll_items = {}\n",
    "for subcoll in subcolls:\n",
    "    subcoll = subcoll['data']\n",
    "    k = subcoll['key']\n",
    "    subcoll_items[k] = {'name': subcoll['name']}\n",
    "    items = zot.collection_items(k)\n",
    "    subcoll_items[k]['items'] = [item['data'] for item in items]"
   ]
  },
  {
   "cell_type": "code",
   "execution_count": 7,
   "metadata": {
    "collapsed": false
   },
   "outputs": [
    {
     "name": "stdout",
     "output_type": "stream",
     "text": [
      "evaluation\n",
      "(u'attachment', u'D88RC286')\n",
      "(u'Information theoretic measures for clusterings comparison: Variants, properties, normalization and correction for chance', u'D88RC286')\n",
      "(u'attachment', u'GV29Q272')\n",
      "(u'Comparing Clusterings', u'GV29Q272')\n",
      "(u'attachment', u'GV29Q272')\n",
      "(u'attachment', u'7SH9W6S4')\n",
      "(u'Community detection algorithms: A comparative analysis', u'7SH9W6S4')\n",
      "community_detection_dynamical\n",
      "(u'note', u'NVXSM9XT')\n",
      "(u'attachment', u'Q8T5FWP2')\n",
      "(u'attachment', u'Q8T5FWP2')\n",
      "(u'Flow graphs: Interweaving dynamics and structure', u'Q8T5FWP2')\n",
      "(u'attachment', u'ASC5EQDX')\n",
      "(u'Encoding dynamics for multiscale community detection: Markov time sweeping for the map equation', u'ASC5EQDX')\n",
      "(u'attachment', u'RSQ2REW4')\n",
      "(u'Ranking and clustering of nodes in networks with smart teleportation', u'RSQ2REW4')\n",
      "(u'attachment', u'SZMR2Q9X')\n",
      "(u'An information-theoretic framework for resolving community structure in complex networks', u'SZMR2Q9X')\n",
      "(u'attachment', u'NVXSM9XT')\n",
      "(u'Maps of random walks on complex networks reveal community structure', u'NVXSM9XT')\n",
      "(u'attachment', u'3TBCKJHD')\n",
      "(u'Multilevel Compression of Random Walks on Networks Reveals Hierarchical Organization in Large Integrated Systems', u'3TBCKJHD')\n",
      "(u'attachment', u'2N29ITWQ')\n",
      "(u'The map equation', u'2N29ITWQ')\n",
      "(u'attachment', u'2N29ITWQ')\n",
      "(u'attachment', u'TRXSHUXV')\n",
      "(u'Memory in network flows and its effects on spreading dynamics and community detection', u'TRXSHUXV')\n",
      "(u'attachment', u'TRXSHUXV')\n",
      "ranking\n",
      "(u'attachment', u'FWX7EDJ6')\n",
      "(u'attachment', u'FWX7EDJ6')\n",
      "(u'Finding scientific gems with Google\\u2019s PageRank algorithm', u'FWX7EDJ6')\n",
      "(u'attachment', u'X59RIGP8')\n",
      "(u'attachment', u'X59RIGP8')\n",
      "(u\"Promise and Pitfalls of Extending Google's PageRank Algorithm to Citation Networks\", u'X59RIGP8')\n",
      "(u'attachment', u'X59RIGP8')\n",
      "(u'attachment', u'KDC7TRCN')\n",
      "(u'Ranking scientific publications using a model of network traffic', u'KDC7TRCN')\n",
      "(u'attachment', u'AJTJXED7')\n",
      "(u'The Eigenfactor MetricsTM: A Network Approach to Assessing Scholarly Journals', u'A7QPS9EE')\n",
      "(u'attachment', u'A7QPS9EE')\n",
      "(u'attachment', u'A7QPS9EE')\n",
      "(u'attachment', u'AJTJXED7')\n",
      "(u'Author-level Eigenfactor metrics: Evaluating the influence of authors, institutions, and countries within the social science research network community', u'AJTJXED7')\n",
      "applications_of_community_detection\n",
      "(u'attachment', u'ZFID7QR2')\n",
      "(u'attachment', u'ZFID7QR2')\n",
      "(u'Toward the next generation of recommender systems: a survey of the state-of-the-art and possible extensions', u'ZFID7QR2')\n",
      "(u'A Graph Based Approach to Extract a Neighborhood Customer Community for Collaborative Filtering', u'QXNRAQH2')\n",
      "(u'note', u'MA5KC83P')\n",
      "(u'attachment', u'MA5KC83P')\n",
      "(u'Detection and interpretation of communities in complex networks: Practical methods and application', u'MA5KC83P')\n",
      "(u'attachment', u'SJ4WTV7T')\n",
      "(u'Mapping networks of terrorist cells', u'SJ4WTV7T')\n",
      "(u'attachment', u'M2MIVBZA')\n",
      "(u'attachment', u'M2MIVBZA')\n",
      "(u'note', u'M2MIVBZA')\n",
      "(u'Detecting criminal organizations in mobile phone networks', u'M2MIVBZA')\n",
      "(u'attachment', u'Z4IRG3B8')\n",
      "(u'Estimating the historical and future probabilities of large terrorist events', u'Z4IRG3B8')\n",
      "(u'attachment', u'KE7SVT9U')\n",
      "(u'attachment', u'KE7SVT9U')\n",
      "(u'The Developmental Dynamics of Terrorist Organizations', u'KE7SVT9U')\n",
      "(u'attachment', u'9PD49VF8')\n",
      "(u'Dark web portal overlapping community detection based on topic models', u'9PD49VF8')\n",
      "(u'attachment', u'WXGI4RJF')\n",
      "(u'attachment', u'WXGI4RJF')\n",
      "(u'Crime Pattern Detection Using Data Mining', u'WXGI4RJF')\n",
      "(u'attachment', u'H352QD8A')\n",
      "(u'Friend of a Friend Influence in Terrorist Social Networks', u'H352QD8A')\n",
      "(u'106-2012: Community Detection to Identify Fraud Events in Telecommunications Networks - 106-2012.pdf', u'ZDCWC6UZ')\n",
      "visualizing_networks\n",
      "(u'note', u'SZHC7T2U')\n",
      "(u'attachment', u'UE92RW6A')\n",
      "(u'attachment', u'UE92RW6A')\n",
      "(u'Visualizing Fuzzy Overlapping Communities in Networks', u'UE92RW6A')\n",
      "(u'attachment', u'DW8Z4B9R')\n",
      "(u'attachment', u'DW8Z4B9R')\n",
      "(u'AmbiguityVis: Visualization of Ambiguity in Graph Layouts', u'DW8Z4B9R')\n",
      "(u'attachment', u'G2HKX56J')\n",
      "(u'attachment', u'G2HKX56J')\n",
      "(u'A Taxonomy and Survey of Dynamic Graph Visualization', u'G2HKX56J')\n",
      "(u'attachment', u'SZHC7T2U')\n",
      "(u'The state of the art in visualizing group structures in graphs', u'SZHC7T2U')\n",
      "(u'attachment', u'K3NMAWB5')\n",
      "(u'Bridging the Gap: The Use of Pathfinder Networks in Visual Navigation', u'K3NMAWB5')\n",
      "(u'attachment', u'K3NMAWB5')\n",
      "(u'attachment', u'VA7UZKB3')\n",
      "(u'Historiographic Mapping of Knowledge Domains Literature', u'VA7UZKB3')\n",
      "(u'attachment', u'E4MS52UP')\n",
      "(u'Visualizing knowledge domains', u'E4MS52UP')\n",
      "(u'attachment', u'E4MS52UP')\n",
      "(u'attachment', u'NUMQXRWB')\n",
      "(u'Multilevel visualization of clustered graphs', u'NUMQXRWB')\n",
      "(u'attachment', u'NUMQXRWB')\n",
      "(u'2014-02-04-pw.pdf', u'SDEVMRGV')\n",
      "(u'attachment', u'7XMVCCJ6')\n",
      "(u'Hive plots\\u2014rational approach to visualizing networks', u'7XMVCCJ6')\n",
      "(u'attachment', u'7XMVCCJ6')\n",
      "(u'attachment', u'HKKUC4ZN')\n",
      "(u'Visual Analysis of Large Graphs: State-of-the-Art and Future Research Challenges', u'HKKUC4ZN')\n",
      "(u'attachment', u'HKKUC4ZN')\n",
      "(u'attachment', u'9XZP7SCM')\n",
      "(u'Network Visualization by Semantic Substrates', u'9XZP7SCM')\n",
      "(u'attachment', u'9XZP7SCM')\n",
      "(u'attachment', u'27FCBBBS')\n",
      "(u'Visualizing dynamic networks with matrix cubes', u'27FCBBBS')\n",
      "(u'attachment', u'CJW8T9QG')\n",
      "(u'The state of the art in visualizing dynamic graphs', u'CJW8T9QG')\n",
      "(u'attachment', u'ZERVEHDW')\n",
      "(u'attachment', u'ZERVEHDW')\n",
      "(u'\\u201cSearch, Show Context, Expand on Demand\\u201d: Supporting Large Graph Exploration with Degree-of-Interest', u'ZERVEHDW')\n",
      "importance_of_community_detection\n",
      "(u'attachment', u'5TIXA7BG')\n",
      "(u'Community Structure in Directed Networks', u'5TIXA7BG')\n",
      "(u'note', u'KFT8EPDQ')\n",
      "(u'note', u'FT3RM32F')\n",
      "(u'attachment', u'FT3RM32F')\n",
      "(u'note', u'9AR6C6WG')\n",
      "(u'attachment', u'J23SFBZJ')\n",
      "(u'attachment', u'J23SFBZJ')\n",
      "(u'Fast algorithm for detecting community structure in networks', u'J23SFBZJ')\n",
      "(u'note', u'6MDX3267')\n",
      "(u'note', u'CI88EKZF')\n",
      "(u'note', u'XRIF2IXV')\n",
      "(u'attachment', u'KAGN25QJ')\n",
      "(u'attachment', u'KAGN25QJ')\n",
      "(u'attachment', u'KAGN25QJ')\n",
      "(u'Extracting the hierarchical organization of complex systems', u'KAGN25QJ')\n",
      "(u'attachment', u'67ZFHT9U')\n",
      "(u'attachment', u'67ZFHT9U')\n",
      "(u'Uncovering the overlapping community structure of complex networks in nature and society', u'67ZFHT9U')\n",
      "(u'note', u'CI88EKZF')\n",
      "(u'attachment', u'CI88EKZF')\n",
      "(u'Clustering: Science or art?', u'CI88EKZF')\n",
      "(u'attachment', u'XRIF2IXV')\n",
      "(u'An impossibility theorem for clustering', u'XRIF2IXV')\n",
      "(u'attachment', u'UZJC8X7R')\n",
      "(u'attachment', u'UZJC8X7R')\n",
      "(u'Incompatibility boundaries for properties of community partitions', u'UZJC8X7R')\n",
      "(u'note', u'KFT8EPDQ')\n",
      "(u'note', u'KFT8EPDQ')\n",
      "(u'attachment', u'RRQ97VMU')\n",
      "(u'attachment', u'RRQ97VMU')\n",
      "(u'Community detection in graphs', u'RRQ97VMU')\n",
      "(u'attachment', u'KFT8EPDQ')\n",
      "(u'attachment', u'KFT8EPDQ')\n",
      "(u'The ground truth about metadata and community detection in networks', u'KFT8EPDQ')\n",
      "(u'attachment', u'FT3RM32F')\n",
      "(u'attachment', u'FT3RM32F')\n",
      "(u'The many facets of community detection in complex networks', u'FT3RM32F')\n",
      "(u'note', u'FT3RM32F')\n",
      "(u'attachment', u'6MDX3267')\n",
      "(u'Detecting community structure in networks', u'6MDX3267')\n",
      "(u'attachment', u'U9NGGW2Z')\n",
      "(u'attachment', u'U9NGGW2Z')\n",
      "(u'Hierarchical structure and the prediction of missing links in networks', u'U9NGGW2Z')\n",
      "(u'attachment', u'WBK345IS')\n",
      "(u'attachment', u'WBK345IS')\n",
      "(u'Finding community structure in networks using the eigenvectors of matrices', u'WBK345IS')\n",
      "(u'attachment', u'9AR6C6WG')\n",
      "(u'attachment', u'9AR6C6WG')\n",
      "(u'attachment', u'9AR6C6WG')\n",
      "(u'Community structure in social and biological networks', u'9AR6C6WG')\n"
     ]
    }
   ],
   "source": [
    "for k, v in subcoll_items.iteritems():\n",
    "    print(v['name'])\n",
    "    for item in v['items']:\n",
    "        if item.get('parentItem'):\n",
    "            print(item['itemType'], item['parentItem'])\n",
    "        else:\n",
    "            print(item['title'], item['key'])"
   ]
  },
  {
   "cell_type": "code",
   "execution_count": 7,
   "metadata": {
    "collapsed": false,
    "scrolled": true
   },
   "outputs": [
    {
     "name": "stdout",
     "output_type": "stream",
     "text": [
      "evaluation\n",
      "community_detection_dynamical\n",
      "ranking\n",
      "applications_of_community_detection\n",
      "visualizing_networks\n",
      "importance_of_community_detection\n"
     ]
    },
    {
     "data": {
      "text/plain": [
       "{u'accessDate': u'2017-05-02T22:27:44Z',\n",
       " u'charset': u'utf-8',\n",
       " u'contentType': u'application/pdf',\n",
       " u'dateAdded': u'2017-05-02T22:27:44Z',\n",
       " u'dateModified': u'2017-05-02T22:27:56Z',\n",
       " u'filename': u'1611.07769.pdf',\n",
       " u'itemType': u'attachment',\n",
       " u'key': u'65JZ3UNZ',\n",
       " u'linkMode': u'imported_url',\n",
       " u'md5': None,\n",
       " u'mtime': None,\n",
       " u'note': u'',\n",
       " u'parentItem': u'FT3RM32F',\n",
       " u'relations': {},\n",
       " u'tags': [],\n",
       " u'title': u'1611.07769.pdf',\n",
       " u'url': u'https://arxiv.org/pdf/1611.07769.pdf',\n",
       " u'version': 736}"
      ]
     },
     "execution_count": 7,
     "metadata": {},
     "output_type": "execute_result"
    }
   ],
   "source": [
    "for k, v in subcoll_items.iteritems():\n",
    "    print(v['name'])\n",
    "    for item in v['items']:\n",
    "        if item.get('itemType') == 'attachment':\n",
    "            break\n",
    "item"
   ]
  },
  {
   "cell_type": "code",
   "execution_count": 8,
   "metadata": {
    "collapsed": false
   },
   "outputs": [
    {
     "name": "stdout",
     "output_type": "stream",
     "text": [
      "evaluation\n",
      "community_detection_dynamical\n",
      "{u'dateAdded': u'2017-05-02T15:27:42Z', u'itemType': u'note', u'tags': [], u'relations': {}, u'note': u'<p>from page 8: \"<span style=\"font-size: 10.000000pt; font-family: \\'Times\\';\">As in Google\\u2019s PageRank algorithm (</span><span style=\"font-size: 10.000000pt; font-family: \\'Times\\'; color: rgb(25.000000%, 25.000000%, 25.000000%);\">2</span><span style=\"font-size: 10.000000pt; font-family: \\'Times\\';\">), we use </span><span style=\"font-size: 10.000000pt; font-family: \\'CMMI10\\';\">\\u03c4 </span><span style=\"font-size: 10.000000pt; font-family: \\'CMR10\\';\">= 0</span><span style=\"font-size: 10.000000pt; font-family: \\'CMMI10\\';\">.</span><span style=\"font-size: 10.000000pt; font-family: \\'CMR10\\';\">15</span><span style=\"font-size: 10.000000pt; font-family: \\'Times\\';\">, but empha- size that the results are robust to this choice.</span>\"</p>\\n<div class=\"page\" title=\"Page 8\">\\n<div class=\"layoutArea\">\\n<div class=\"column\">\\n<p>How is it that results are robust to this choice? They are using a uniform teleport probability... if tau increases wouldn\\'t that erase structure?</p>\\n</div>\\n</div>\\n</div>', u'version': 723, u'key': u'H4AT2UQX', u'dateModified': u'2017-05-02T18:11:09Z', u'parentItem': u'NVXSM9XT'}\n",
      "ranking\n",
      "applications_of_community_detection\n",
      "{u'dateAdded': u'2017-05-03T16:22:54Z', u'itemType': u'note', u'tags': [], u'relations': {}, u'note': u'<p>Discusses applications in terms of Business Science.</p>', u'version': 766, u'key': u'IEVZBA7E', u'dateModified': u'2017-05-03T16:23:25Z', u'parentItem': u'MA5KC83P'}\n",
      "{u'dateAdded': u'2017-05-03T16:04:13Z', u'itemType': u'note', u'tags': [], u'relations': {}, u'note': u'<p>Comment: http://www.sciencedirect.com/science/article/pii/S0957417414001614. Expert Systems with Applications, 2014</p>', u'version': 759, u'key': u'WSVF4AI3', u'dateModified': u'2017-05-03T16:04:13Z', u'parentItem': u'M2MIVBZA'}\n",
      "visualizing_networks\n",
      "{u'dateAdded': u'2017-04-30T17:45:40Z', u'itemType': u'note', u'tags': [], u'relations': {}, u'note': u'<div class=\"page\" title=\"Page 3\">\\n<div class=\"section\">\\n<div class=\"layoutArea\">\\n<div class=\"column\">\\n<p>Come back to this explanation of hierarchical group structure to understand it better:</p>\\n<div class=\"page\" title=\"Page 3\">\\n<div class=\"section\">\\n<div class=\"layoutArea\">\\n<div class=\"column\">\\n<p><span style=\"font-size: 9.000000pt; font-family: \\'NimbusRomNo9L\\';\">We de- fine a hierarchical group structure as a family of sets </span><span style=\"font-size: 9.000000pt; font-family: \\'CMSY9\\';\">H </span><span style=\"font-size: 9.000000pt; font-family: \\'CMR10\\';\">= </span><span style=\"font-size: 9.000000pt; font-family: \\'CMSY9\\';\">{</span><span style=\"font-size: 9.000000pt; font-family: \\'NimbusRomNo9L\\'; font-style: italic;\">H</span><span style=\"font-size: 7.000000pt; font-family: \\'NimbusRomNo9L\\'; vertical-align: -2.000000pt;\">0</span><span style=\"font-size: 9.000000pt; font-family: \\'CMMI10\\';\">,</span><span style=\"font-size: 9.000000pt; font-family: \\'NimbusRomNo9L\\'; font-style: italic;\">H</span><span style=\"font-size: 7.000000pt; font-family: \\'NimbusRomNo9L\\'; vertical-align: -2.000000pt;\">1</span><span style=\"font-size: 9.000000pt; font-family: \\'CMMI10\\';\">,...,</span><span style=\"font-size: 9.000000pt; font-family: \\'NimbusRomNo9L\\'; font-style: italic;\">H</span><span style=\"font-size: 7.000000pt; font-family: \\'NimbusRomNo9L\\'; font-style: italic; vertical-align: -1.000000pt;\">L</span><span style=\"font-size: 9.000000pt; font-family: \\'CMSY9\\';\">}</span><span style=\"font-size: 9.000000pt; font-family: \\'NimbusRomNo9L\\';\">, where each </span><span style=\"font-size: 9.000000pt; font-family: \\'NimbusRomNo9L\\'; font-style: italic;\">H</span><span style=\"font-size: 7.000000pt; font-family: \\'NimbusRomNo9L\\'; font-style: italic; vertical-align: -2.000000pt;\">l </span><span style=\"font-size: 9.000000pt; font-family: \\'CMSY9\\';\">\\u2208 H </span><span style=\"font-size: 9.000000pt; font-family: \\'NimbusRomNo9L\\';\">is a set of other group elements from </span><span style=\"font-size: 9.000000pt; font-family: \\'CMSY9\\';\">H </span><span style=\"font-size: 9.000000pt; font-family: \\'NimbusRomNo9L\\';\">or graph vertices </span><span style=\"font-size: 9.000000pt; font-family: \\'NimbusRomNo9L\\'; font-style: italic;\">v</span><span style=\"font-size: 7.000000pt; font-family: \\'NimbusRomNo9L\\'; font-style: italic; vertical-align: -1.000000pt;\">i </span><span style=\"font-size: 9.000000pt; font-family: \\'CMSY9\\';\">\\u2208 </span><span style=\"font-size: 9.000000pt; font-family: \\'NimbusRomNo9L\\'; font-style: italic;\">V </span><span style=\"font-size: 9.000000pt; font-family: \\'NimbusRomNo9L\\';\">. These groups rep- resent the inner elements of a hierarchy where </span><span style=\"font-size: 9.000000pt; font-family: \\'NimbusRomNo9L\\'; font-style: italic;\">H</span><span style=\"font-size: 7.000000pt; font-family: \\'NimbusRomNo9L\\'; vertical-align: -2.000000pt;\">0 </span><span style=\"font-size: 9.000000pt; font-family: \\'NimbusRomNo9L\\';\">forms the root element. Hence, for all </span><span style=\"font-size: 9.000000pt; font-family: \\'NimbusRomNo9L\\'; font-style: italic;\">H</span><span style=\"font-size: 7.000000pt; font-family: \\'NimbusRomNo9L\\'; font-style: italic; vertical-align: -2.000000pt;\">l </span><span style=\"font-size: 9.000000pt; font-family: \\'CMSY9\\';\">\\u2208 H </span><span style=\"font-size: 9.000000pt; font-family: \\'NimbusRomNo9L\\';\">where </span><span style=\"font-size: 9.000000pt; font-family: \\'NimbusRomNo9L\\'; font-style: italic;\">l </span><span style=\"font-size: 9.000000pt; font-family: \\'CMR10\\';\">= </span><span style=\"font-size: 9.000000pt; font-family: \\'NimbusRomNo9L\\';\">1</span><span style=\"font-size: 9.000000pt; font-family: \\'CMMI10\\';\">,...,</span><span style=\"font-size: 9.000000pt; font-family: \\'NimbusRomNo9L\\'; font-style: italic;\">L </span><span style=\"font-size: 9.000000pt; font-family: \\'NimbusRomNo9L\\';\">(i.e., all groups but the root element), there exists exactly one par- ent group </span><span style=\"font-size: 9.000000pt; font-family: \\'NimbusRomNo9L\\'; font-style: italic;\">H</span><span style=\"font-size: 7.000000pt; font-family: \\'NimbusRomNo9L\\'; font-style: italic; vertical-align: -2.000000pt;\">l</span><span style=\"font-size: 5.000000pt; font-family: \\'CMSY5\\';\">\\u2032 </span><span style=\"font-size: 9.000000pt; font-family: \\'CMSY9\\';\">\\u2208 H </span><span style=\"font-size: 9.000000pt; font-family: \\'NimbusRomNo9L\\';\">(</span><span style=\"font-size: 9.000000pt; font-family: \\'NimbusRomNo9L\\'; font-style: italic;\">l</span><span style=\"font-size: 7.000000pt; font-family: \\'CMSY7\\'; vertical-align: 4.000000pt;\">\\u2032 </span><span style=\"font-size: 9.000000pt; font-family: \\'CMSY9\\';\">\\u2208 {</span><span style=\"font-size: 9.000000pt; font-family: \\'NimbusRomNo9L\\';\">0</span><span style=\"font-size: 9.000000pt; font-family: \\'CMMI10\\';\">,...,</span><span style=\"font-size: 9.000000pt; font-family: \\'NimbusRomNo9L\\'; font-style: italic;\">L</span><span style=\"font-size: 9.000000pt; font-family: \\'CMSY9\\';\">}</span><span style=\"font-size: 9.000000pt; font-family: \\'NimbusRomNo9L\\';\">) with </span><span style=\"font-size: 9.000000pt; font-family: \\'NimbusRomNo9L\\'; font-style: italic;\">H</span><span style=\"font-size: 7.000000pt; font-family: \\'NimbusRomNo9L\\'; font-style: italic; vertical-align: -2.000000pt;\">l </span><span style=\"font-size: 9.000000pt; font-family: \\'CMSY9\\';\">\\u2208 </span><span style=\"font-size: 9.000000pt; font-family: \\'NimbusRomNo9L\\'; font-style: italic;\">H</span><span style=\"font-size: 7.000000pt; font-family: \\'NimbusRomNo9L\\'; font-style: italic; vertical-align: -2.000000pt;\">l</span><span style=\"font-size: 5.000000pt; font-family: \\'CMSY5\\';\">\\u2032 </span><span style=\"font-size: 9.000000pt; font-family: \\'NimbusRomNo9L\\';\">; since also </span></p>\\n<div class=\"page\" title=\"Page 3\">\\n<div class=\"section\">\\n<div class=\"layoutArea\">\\n<div class=\"column\">\\n<p><span style=\"font-size: 9.000000pt; font-family: \\'NimbusRomNo9L\\';\">each graph vertex is contained in exactly one group, the same appliestoall</span><span style=\"font-size: 9.000000pt; font-family: \\'NimbusRomNo9L\\'; font-style: italic;\">v</span><span style=\"font-size: 7.000000pt; font-family: \\'NimbusRomNo9L\\'; font-style: italic; vertical-align: -1.000000pt;\">i </span><span style=\"font-size: 9.000000pt; font-family: \\'CMSY9\\';\">\\u2208</span><span style=\"font-size: 9.000000pt; font-family: \\'NimbusRomNo9L\\'; font-style: italic;\">V </span><span style=\"font-size: 9.000000pt; font-family: \\'NimbusRomNo9L\\';\">(</span><span style=\"font-size: 9.000000pt; font-family: \\'CMSY9\\';\">\\u2200</span><span style=\"font-size: 9.000000pt; font-family: \\'NimbusRomNo9L\\'; font-style: italic;\">v</span><span style=\"font-size: 7.000000pt; font-family: \\'NimbusRomNo9L\\'; font-style: italic; vertical-align: -1.000000pt;\">i </span><span style=\"font-size: 9.000000pt; font-family: \\'CMSY9\\';\">\\u2208</span><span style=\"font-size: 9.000000pt; font-family: \\'NimbusRomNo9L\\'; font-style: italic;\">V </span><span style=\"font-size: 9.000000pt; font-family: \\'CMSY9\\';\">\\u2203</span><span style=\"font-size: 9.000000pt; font-family: \\'NimbusRomNo9L\\';\">!</span><span style=\"font-size: 9.000000pt; font-family: \\'NimbusRomNo9L\\'; font-style: italic;\">l</span><span style=\"font-size: 7.000000pt; font-family: \\'CMSY7\\'; vertical-align: 4.000000pt;\">\\u2032 </span><span style=\"font-size: 9.000000pt; font-family: \\'CMSY9\\';\">\\u2208{</span><span style=\"font-size: 9.000000pt; font-family: \\'NimbusRomNo9L\\';\">0</span><span style=\"font-size: 9.000000pt; font-family: \\'CMMI10\\';\">,...,</span><span style=\"font-size: 9.000000pt; font-family: \\'NimbusRomNo9L\\'; font-style: italic;\">L</span><span style=\"font-size: 9.000000pt; font-family: \\'CMSY9\\';\">}</span><span style=\"font-size: 9.000000pt; font-family: \\'NimbusRomNo9L\\';\">:</span><span style=\"font-size: 9.000000pt; font-family: \\'NimbusRomNo9L\\'; font-style: italic;\">v</span><span style=\"font-size: 7.000000pt; font-family: \\'NimbusRomNo9L\\'; font-style: italic; vertical-align: -1.000000pt;\">i </span><span style=\"font-size: 9.000000pt; font-family: \\'CMSY9\\';\">\\u2208</span><span style=\"font-size: 9.000000pt; font-family: \\'NimbusRomNo9L\\'; font-style: italic;\">H</span><span style=\"font-size: 7.000000pt; font-family: \\'NimbusRomNo9L\\'; font-style: italic; vertical-align: -2.000000pt;\">l</span><span style=\"font-size: 5.000000pt; font-family: \\'CMSY5\\';\">\\u2032</span><span style=\"font-size: 9.000000pt; font-family: \\'NimbusRomNo9L\\';\">). (page 3)<br /></span></p>\\n</div>\\n</div>\\n</div>\\n</div>\\n</div>\\n</div>\\n</div>\\n</div>\\n</div>\\n</div>\\n</div>\\n</div>', u'version': 715, u'key': u'PPBIG4MM', u'dateModified': u'2017-04-30T17:47:06Z', u'parentItem': u'SZHC7T2U'}\n",
      "importance_of_community_detection\n",
      "{u'dateAdded': u'2017-04-27T20:56:38Z', u'itemType': u'note', u'tags': [], u'relations': {}, u'note': u'<div style=\"left: 107.342px; top: 657.857px; font-size: 16.6043px; font-family: sans-serif; transform: scaleX(1.02524);\"># annot</div>\\n<div style=\"left: 107.342px; top: 657.857px; font-size: 16.6043px; font-family: sans-serif; transform: scaleX(1.02524);\">Network metadata are often used as ground truth to evaluate the performance of community detection algorithms. This paper argues against it. It claims that if the metadata and the community structure an algorithm gives does not match, it could actually be due to one of four reasons:</div>\\n<div style=\"left: 107.342px; top: 657.857px; font-size: 16.6043px; font-family: sans-serif; transform: scaleX(1.02524);\">(i) these particular metadata are irrelevant to the</div>\\n<div style=\"left: 131.512px; top: 676.952px; font-size: 16.6043px; font-family: sans-serif; transform: scaleX(1.01797);\">structure of the network,</div>\\n<div style=\"left: 102.73px; top: 703.465px; font-size: 16.6043px; font-family: sans-serif; transform: scaleX(0.964958);\">(ii) the detected communities and the metadata cap-</div>\\n<div style=\"left: 131.512px; top: 722.56px; font-size: 16.6043px; font-family: sans-serif; transform: scaleX(1.00593);\">ture different aspects of the network\\u2019s structure,</div>\\n<div style=\"left: 98.1183px; top: 749.072px; font-size: 16.6043px; font-family: sans-serif; transform: scaleX(0.987358);\">(iii) the network contains no communities as in a simple</div>\\n<div style=\"left: 131.512px; top: 768.167px; font-size: 16.6043px; font-family: sans-serif; transform: scaleX(1.03971);\">random graph [7] or a network that is sufficiently</div>\\n<div style=\"left: 131.512px; top: 787.262px; font-size: 16.6043px; font-family: sans-serif; transform: scaleX(1.00311);\">sparse that its communities are not detectable [8],</div>\\n<div style=\"left: 131.512px; top: 806.357px; font-size: 16.6043px; font-family: sans-serif; transform: scaleX(1.00494);\">or</div>\\n<div style=\"left: 98.5783px; top: 832.87px; font-size: 16.6043px; font-family: sans-serif; transform: scaleX(1.00685);\">(iv) the community detection algorithm performed</div>\\n<div style=\"left: 131.512px; top: 851.965px; font-size: 16.6043px; font-family: sans-serif; transform: scaleX(1.02764);\">poorly.</div>\\n<div style=\"left: 131.512px; top: 851.965px; font-size: 16.6043px; font-family: sans-serif; transform: scaleX(1.02764);\">Most people assume case (iv), ignoring the others. This paper provides statistical tools (using stochastic block models) to evaluate case (i) and case (ii)</div>', u'version': 742, u'key': u'QJ7F7UWG', u'dateModified': u'2017-05-02T22:32:16Z', u'parentItem': u'KFT8EPDQ'}\n",
      "{u'dateAdded': u'2017-05-02T22:25:25Z', u'itemType': u'note', u'tags': [], u'relations': {}, u'note': u'<p># annot</p>\\n<p>Recent paper with a wide overview of community detection methods: (1) cut-based perspective; (2) clustering perspective, including modularity; (3) stochastically equivalent nodes (e.g. stochastic block models); and (4) the dynamical perspective (including Infomap).</p>', u'version': 741, u'key': u'DA3PK6FV', u'dateModified': u'2017-05-02T22:31:08Z', u'parentItem': u'FT3RM32F'}\n",
      "{u'dateAdded': u'2017-05-02T22:23:44Z', u'itemType': u'note', u'tags': [], u'relations': {}, u'note': u'<p># annot</p>\\n<p>Classic paper introducing, along with Newman 2003 and Newman 2006) Modularity as an objective function. Also includes an overview of community detection approaches that came previously.</p>', u'version': 734, u'key': u'NCDR9S2W', u'dateModified': u'2017-05-02T22:24:47Z', u'parentItem': u'9AR6C6WG'}\n",
      "{u'dateAdded': u'2017-05-02T22:19:58Z', u'itemType': u'note', u'tags': [], u'relations': {}, u'note': u'<p># annot</p>\\n<p>This, along with Newman 2006, introduces Modularity as an objective function. It also has a review of community detection approaches that came before.</p>', u'version': 731, u'key': u'WIBSK4XP', u'dateModified': u'2017-05-02T22:21:12Z', u'parentItem': u'6MDX3267'}\n",
      "{u'dateAdded': u'2017-05-02T22:13:44Z', u'itemType': u'note', u'tags': [], u'relations': {}, u'note': u'<p># Annot</p>\\n<p>Not necessarily about networks, but talks about how there needs to be more discussion of how clustering serves some end goal (and that methods should be evaluated with this end goal in mind).</p>', u'version': 729, u'key': u'Z3VP3H28', u'dateModified': u'2017-05-02T22:14:34Z', u'parentItem': u'CI88EKZF'}\n",
      "{u'dateAdded': u'2017-05-02T22:10:03Z', u'itemType': u'note', u'tags': [], u'relations': {}, u'note': u'<p># Annot</p>\\n<p>Although this article is about clustering in general and not necessarily network clustering, it talks about the difficulty of \"developing a unified framework for dealing with it at a technical level\". It posits that a clustering algorithm cannot simultaneously satisfy (1) scale-invariance, (2) richness, and (3) consistency. You can get two of them, but you need to relax the other. They explore what that means in terms of the trade offs of different clustering methods.</p>', u'version': 729, u'key': u'HZMGFP9M', u'dateModified': u'2017-05-02T22:13:38Z', u'parentItem': u'XRIF2IXV'}\n",
      "{u'dateAdded': u'2017-04-29T00:24:57Z', u'itemType': u'note', u'tags': [], u'relations': {}, u'note': u'<div class=\"page\" title=\"Page 4\">\\n<div class=\"layoutArea\">\\n<div class=\"column\">\\n<p><span style=\"font-size: 11.000000pt; font-family: \\'CMR10\\';\">\"Arguably, it is the most important part of the scientific process to evaluate whether methods serve the end goals they have been designed for. We believe that there is an urgent need for such evaluation procedures for clustering.\"</span></p>\\n<p><span style=\"font-size: 11.000000pt; font-family: \\'CMR10\\';\">This article isn\\'t about networks/graphs specifically, but still seems to be relevant.</span></p>\\n<p><span style=\"font-size: 11.000000pt; font-family: \\'CMR10\\';\">Goes deeper into the idea that the success of clustering algorithms really depends on what you\\'re using the clustering for.</span></p>\\n<div class=\"page\" title=\"Page 4\">\\n<div class=\"layoutArea\">\\n<div class=\"column\">\\n<p><span style=\"font-size: 11.000000pt; font-family: \\'CMR10\\';\">\"In this section we argue that this insight is completely ignored by most of the current literature on clustering. Scanning the current literature on clustering algorithms one will find that one or several of the following methods are typically used to argue for the success of a clustering algorithm. We think that all these methods are insufficient and can be completely misleading.\"</span></p>\\n<p>\\xa0</p>\\n<p><span style=\"font-size: 11.000000pt; font-family: \\'CMR10\\';\">See paragraph on \"Evaluation on real world data sets\":</span></p>\\n<p>\\xa0</p>\\n<div class=\"page\" title=\"Page 5\">\\n<div class=\"layoutArea\">\\n<div class=\"column\">\\n<p><span style=\"font-size: 11.000000pt; font-family: \\'CMR10\\';\">\"Sometimes people run their algorithm on a real data set, and then try to convince the reader that the clusters \\u201cmake sense\\u201d in the applica- tion; this is claimed by some to be \\u201cthe best way to evaluate clustering algorithms\\u201d (</span><span style=\"font-size: 11.000000pt; font-family: \\'CMR10\\'; color: rgb(0.000000%, 0.000000%, 100.000000%);\">Kogan</span><span style=\"font-size: 11.000000pt; font-family: \\'CMR10\\';\">, </span><span style=\"font-size: 11.000000pt; font-family: \\'CMR10\\'; color: rgb(0.000000%, 0.000000%, 100.000000%);\">2007</span><span style=\"font-size: 11.000000pt; font-family: \\'CMR10\\';\">, p.156)</span><span style=\"font-size: 8.000000pt; font-family: \\'CMR8\\'; color: rgb(0.000000%, 0.000000%, 100.000000%); vertical-align: 4.000000pt;\">4</span><span style=\"font-size: 11.000000pt; font-family: \\'CMR10\\';\">. For example, proteins are grouped according to some known structure. This is more or less a qualitative version of the approach using benchmark data sets. It can make sense if the clustering algorithm is intended for use in exploratory data analysis in this particular application, but does not carry any further meaning otherwise.\"</span></p>\\n<p>\\xa0</p>\\n<p>Section 3 provides two example scenarios of how clustering can be useful. The second one seems relevant: \"Clustering for exploratory data analysis\"</p>\\n<p>\\xa0</p>\\n<div class=\"page\" title=\"Page 7\">\\n<div class=\"layoutArea\">\\n<div class=\"column\">\\n<p><span style=\"font-size: 11.000000pt; font-family: \\'CMR10\\';\">\"As opposed to treating clustering and visualization indepen- dently from each other, it is a promising approach to consider them jointly. For example, it might make sense to sacrifice a bit of accuracy in the clustering algorithm if this leads to a performance gain in the visualization part (consider the t-SNE algorithm of </span><span style=\"font-size: 11.000000pt; font-family: \\'CMR10\\'; color: rgb(0.000000%, 0.000000%, 100.000000%);\">van der Maaten and Hinton </span><span style=\"font-size: 11.000000pt; font-family: \\'CMR10\\';\">(</span><span style=\"font-size: 11.000000pt; font-family: \\'CMR10\\'; color: rgb(0.000000%, 0.000000%, 100.000000%);\">2008</span><span style=\"font-size: 11.000000pt; font-family: \\'CMR10\\';\">) as an example)</span>\"</p>\\n<p>\\xa0</p>\\n<p>Final paragraph:</p>\\n<div class=\"page\" title=\"Page 12\">\\n<div class=\"layoutArea\">\\n<div class=\"column\">\\n<p><span style=\"font-size: 11.000000pt; font-family: \\'CMR10\\';\">If clustering researchers want real impact in applications, then it is time to step back from a purely mathematical and algorithmic point of view. What is missing is not \\u201cbet- ter\\u201d clustering algorithms but a problem-centric perspective in order to devise meaningful evaluation procedures. </span></p>\\n</div>\\n</div>\\n</div>\\n</div>\\n</div>\\n</div>\\n<p>\\xa0</p>\\n</div>\\n</div>\\n</div>\\n<p>\\xa0</p>\\n</div>\\n</div>\\n</div>\\n</div>\\n</div>\\n</div>', u'version': 706, u'key': u'E56ERVAN', u'dateModified': u'2017-04-29T01:18:45Z', u'parentItem': u'CI88EKZF'}\n",
      "{u'dateAdded': u'2017-04-27T21:01:13Z', u'itemType': u'note', u'tags': [], u'relations': {}, u'note': u\"<h3>Interesting anecdote from Karate Club data: one node that is frequently misclassified by community detection algorithms actually reveals something about that particular student not revealed by the metadata (the student did have more social ties to the president, but remained with the instructor's group so as not to lose his progress toward his black belt)</h3>\", u'version': 685, u'key': u'DBW2EZZ3', u'dateModified': u'2017-04-27T21:02:58Z', u'parentItem': u'KFT8EPDQ'}\n",
      "{u'dateAdded': u'2017-04-24T17:08:23Z', u'itemType': u'note', u'tags': [], u'relations': {}, u'note': u'<p>Comment: 24 pages, 10 figures, 9 tables</p>', u'version': 682, u'key': u'E3EUNCTM', u'dateModified': u'2017-04-27T20:59:26Z', u'parentItem': u'KFT8EPDQ'}\n",
      "{u'dateAdded': u'2017-04-22T23:07:38Z', u'itemType': u'note', u'tags': [], u'relations': {}, u'note': u'<p>Comment: 8 Pages, 1 Figure</p>', u'version': 647, u'key': u'HD8DWBG4', u'dateModified': u'2017-04-22T23:07:38Z', u'parentItem': u'FT3RM32F'}\n"
     ]
    }
   ],
   "source": [
    "for k, v in subcoll_items.iteritems():\n",
    "    print(v['name'])\n",
    "    for item in v['items']:\n",
    "        if item.get('itemType') == 'note':\n",
    "            print(item)\n"
   ]
  }
 ],
 "metadata": {
  "kernelspec": {
   "display_name": "Python 2",
   "language": "python",
   "name": "python2"
  },
  "language_info": {
   "codemirror_mode": {
    "name": "ipython",
    "version": 2
   },
   "file_extension": ".py",
   "mimetype": "text/x-python",
   "name": "python",
   "nbconvert_exporter": "python",
   "pygments_lexer": "ipython2",
   "version": "2.7.12"
  }
 },
 "nbformat": 4,
 "nbformat_minor": 1
}
