{
 "cells": [
  {
   "cell_type": "code",
   "execution_count": 1,
   "metadata": {
    "collapsed": true
   },
   "outputs": [],
   "source": [
    "import os"
   ]
  },
  {
   "cell_type": "code",
   "execution_count": 2,
   "metadata": {
    "collapsed": false
   },
   "outputs": [],
   "source": [
    "from get_genexam_list import load_zotero, get_genexam_coll_id"
   ]
  },
  {
   "cell_type": "code",
   "execution_count": 3,
   "metadata": {
    "collapsed": true
   },
   "outputs": [],
   "source": [
    "zot = load_zotero()"
   ]
  },
  {
   "cell_type": "code",
   "execution_count": 4,
   "metadata": {
    "collapsed": false
   },
   "outputs": [
    {
     "name": "stderr",
     "output_type": "stream",
     "text": [
      "09:31:50 requests.packages.urllib3.connectionpool.805 INFO : Starting new HTTPS connection (1): api.zotero.org\n"
     ]
    }
   ],
   "source": [
    "coll_id = get_genexam_coll_id(zot)"
   ]
  },
  {
   "cell_type": "code",
   "execution_count": 5,
   "metadata": {
    "collapsed": false
   },
   "outputs": [
    {
     "name": "stderr",
     "output_type": "stream",
     "text": [
      "09:31:52 requests.packages.urllib3.connectionpool.805 INFO : Starting new HTTPS connection (1): api.zotero.org\n",
      "09:31:52 requests.packages.urllib3.connectionpool.805 INFO : Starting new HTTPS connection (1): api.zotero.org\n",
      "09:31:54 requests.packages.urllib3.connectionpool.805 INFO : Starting new HTTPS connection (1): api.zotero.org\n",
      "09:31:55 requests.packages.urllib3.connectionpool.805 INFO : Starting new HTTPS connection (1): api.zotero.org\n",
      "09:31:58 requests.packages.urllib3.connectionpool.805 INFO : Starting new HTTPS connection (1): api.zotero.org\n",
      "09:32:00 requests.packages.urllib3.connectionpool.805 INFO : Starting new HTTPS connection (1): api.zotero.org\n",
      "09:32:01 requests.packages.urllib3.connectionpool.805 INFO : Starting new HTTPS connection (1): api.zotero.org\n"
     ]
    }
   ],
   "source": [
    "subcolls = zot.collections_sub(coll_id)\n",
    "subcoll_items = {}\n",
    "for subcoll in subcolls:\n",
    "    subcoll = subcoll['data']\n",
    "    k = subcoll['key']\n",
    "    subcoll_items[k] = {'name': subcoll['name']}\n",
    "    items = zot.collection_items(k)\n",
    "    subcoll_items[k]['items'] = [item['data'] for item in items]"
   ]
  },
  {
   "cell_type": "code",
   "execution_count": 6,
   "metadata": {
    "collapsed": false
   },
   "outputs": [
    {
     "name": "stdout",
     "output_type": "stream",
     "text": [
      "evaluation\n",
      "(u'attachment', u'D88RC286')\n",
      "(u'Information theoretic measures for clusterings comparison: Variants, properties, normalization and correction for chance', u'D88RC286')\n",
      "(u'attachment', u'GV29Q272')\n",
      "(u'Comparing Clusterings', u'GV29Q272')\n",
      "(u'attachment', u'GV29Q272')\n",
      "(u'attachment', u'7SH9W6S4')\n",
      "(u'Community detection algorithms: A comparative analysis', u'7SH9W6S4')\n",
      "community_detection_dynamical\n",
      "(u'note', u'NVXSM9XT')\n",
      "(u'attachment', u'Q8T5FWP2')\n",
      "(u'Flow graphs: Interweaving dynamics and structure', u'Q8T5FWP2')\n",
      "(u'attachment', u'Q8T5FWP2')\n",
      "(u'attachment', u'ASC5EQDX')\n",
      "(u'Encoding dynamics for multiscale community detection: Markov time sweeping for the map equation', u'ASC5EQDX')\n",
      "(u'attachment', u'RSQ2REW4')\n",
      "(u'Ranking and clustering of nodes in networks with smart teleportation', u'RSQ2REW4')\n",
      "(u'attachment', u'SZMR2Q9X')\n",
      "(u'An information-theoretic framework for resolving community structure in complex networks', u'SZMR2Q9X')\n",
      "(u'attachment', u'NVXSM9XT')\n",
      "(u'Maps of random walks on complex networks reveal community structure', u'NVXSM9XT')\n",
      "(u'attachment', u'3TBCKJHD')\n",
      "(u'Multilevel Compression of Random Walks on Networks Reveals Hierarchical Organization in Large Integrated Systems', u'3TBCKJHD')\n",
      "(u'attachment', u'2N29ITWQ')\n",
      "(u'The map equation', u'2N29ITWQ')\n",
      "(u'attachment', u'2N29ITWQ')\n",
      "(u'attachment', u'TRXSHUXV')\n",
      "(u'Memory in network flows and its effects on spreading dynamics and community detection', u'TRXSHUXV')\n",
      "(u'attachment', u'TRXSHUXV')\n",
      "ranking\n",
      "(u'attachment', u'FWX7EDJ6')\n",
      "(u'Finding scientific gems with Google\\u2019s PageRank algorithm', u'FWX7EDJ6')\n",
      "(u'attachment', u'FWX7EDJ6')\n",
      "(u'attachment', u'X59RIGP8')\n",
      "(u\"Promise and Pitfalls of Extending Google's PageRank Algorithm to Citation Networks\", u'X59RIGP8')\n",
      "(u'attachment', u'X59RIGP8')\n",
      "(u'attachment', u'X59RIGP8')\n",
      "(u'attachment', u'KDC7TRCN')\n",
      "(u'Ranking scientific publications using a model of network traffic', u'KDC7TRCN')\n",
      "(u'attachment', u'AJTJXED7')\n",
      "(u'The Eigenfactor MetricsTM: A Network Approach to Assessing Scholarly Journals', u'A7QPS9EE')\n",
      "(u'attachment', u'A7QPS9EE')\n",
      "(u'attachment', u'A7QPS9EE')\n",
      "(u'attachment', u'AJTJXED7')\n",
      "(u'Author-level Eigenfactor metrics: Evaluating the influence of authors, institutions, and countries within the social science research network community', u'AJTJXED7')\n",
      "applications_of_community_detection\n",
      "(u'note', u'MA5KC83P')\n",
      "(u'attachment', u'MA5KC83P')\n",
      "(u'Detection and interpretation of communities in complex networks: Practical methods and application', u'MA5KC83P')\n",
      "(u'attachment', u'SJ4WTV7T')\n",
      "(u'Mapping networks of terrorist cells', u'SJ4WTV7T')\n",
      "(u'attachment', u'M2MIVBZA')\n",
      "(u'attachment', u'M2MIVBZA')\n",
      "(u'note', u'M2MIVBZA')\n",
      "(u'Detecting criminal organizations in mobile phone networks', u'M2MIVBZA')\n",
      "(u'attachment', u'Z4IRG3B8')\n",
      "(u'Estimating the historical and future probabilities of large terrorist events', u'Z4IRG3B8')\n",
      "(u'attachment', u'KE7SVT9U')\n",
      "(u'attachment', u'KE7SVT9U')\n",
      "(u'The Developmental Dynamics of Terrorist Organizations', u'KE7SVT9U')\n",
      "(u'attachment', u'9PD49VF8')\n",
      "(u'Dark web portal overlapping community detection based on topic models', u'9PD49VF8')\n",
      "(u'attachment', u'WXGI4RJF')\n",
      "(u'attachment', u'WXGI4RJF')\n",
      "(u'Crime Pattern Detection Using Data Mining', u'WXGI4RJF')\n",
      "(u'attachment', u'H352QD8A')\n",
      "(u'Friend of a Friend Influence in Terrorist Social Networks', u'H352QD8A')\n",
      "(u'106-2012: Community Detection to Identify Fraud Events in Telecommunications Networks - 106-2012.pdf', u'ZDCWC6UZ')\n",
      "visualizing_networks\n",
      "(u'note', u'SZHC7T2U')\n",
      "(u'attachment', u'UE92RW6A')\n",
      "(u'attachment', u'UE92RW6A')\n",
      "(u'Visualizing Fuzzy Overlapping Communities in Networks', u'UE92RW6A')\n",
      "(u'attachment', u'DW8Z4B9R')\n",
      "(u'AmbiguityVis: Visualization of Ambiguity in Graph Layouts', u'DW8Z4B9R')\n",
      "(u'attachment', u'DW8Z4B9R')\n",
      "(u'attachment', u'G2HKX56J')\n",
      "(u'A Taxonomy and Survey of Dynamic Graph Visualization', u'G2HKX56J')\n",
      "(u'attachment', u'G2HKX56J')\n",
      "(u'attachment', u'SZHC7T2U')\n",
      "(u'The state of the art in visualizing group structures in graphs', u'SZHC7T2U')\n",
      "(u'attachment', u'K3NMAWB5')\n",
      "(u'Bridging the Gap: The Use of Pathfinder Networks in Visual Navigation', u'K3NMAWB5')\n",
      "(u'attachment', u'K3NMAWB5')\n",
      "(u'attachment', u'VA7UZKB3')\n",
      "(u'Historiographic Mapping of Knowledge Domains Literature', u'VA7UZKB3')\n",
      "(u'attachment', u'E4MS52UP')\n",
      "(u'Visualizing knowledge domains', u'E4MS52UP')\n",
      "(u'attachment', u'E4MS52UP')\n",
      "(u'attachment', u'NUMQXRWB')\n",
      "(u'Multilevel visualization of clustered graphs', u'NUMQXRWB')\n",
      "(u'attachment', u'NUMQXRWB')\n",
      "(u'2014-02-04-pw.pdf', u'SDEVMRGV')\n",
      "(u'attachment', u'7XMVCCJ6')\n",
      "(u'Hive plots\\u2014rational approach to visualizing networks', u'7XMVCCJ6')\n",
      "(u'attachment', u'7XMVCCJ6')\n",
      "(u'attachment', u'HKKUC4ZN')\n",
      "(u'Visual Analysis of Large Graphs: State-of-the-Art and Future Research Challenges', u'HKKUC4ZN')\n",
      "(u'attachment', u'HKKUC4ZN')\n",
      "(u'attachment', u'9XZP7SCM')\n",
      "(u'Network Visualization by Semantic Substrates', u'9XZP7SCM')\n",
      "(u'attachment', u'9XZP7SCM')\n",
      "(u'attachment', u'27FCBBBS')\n",
      "(u'Visualizing dynamic networks with matrix cubes', u'27FCBBBS')\n",
      "(u'attachment', u'CJW8T9QG')\n",
      "(u'The state of the art in visualizing dynamic graphs', u'CJW8T9QG')\n",
      "(u'attachment', u'ZERVEHDW')\n",
      "(u'attachment', u'ZERVEHDW')\n",
      "(u'\\u201cSearch, Show Context, Expand on Demand\\u201d: Supporting Large Graph Exploration with Degree-of-Interest', u'ZERVEHDW')\n",
      "importance_of_community_detection\n",
      "(u'note', u'KFT8EPDQ')\n",
      "(u'note', u'FT3RM32F')\n",
      "(u'attachment', u'FT3RM32F')\n",
      "(u'note', u'9AR6C6WG')\n",
      "(u'attachment', u'J23SFBZJ')\n",
      "(u'attachment', u'J23SFBZJ')\n",
      "(u'Fast algorithm for detecting community structure in networks', u'J23SFBZJ')\n",
      "(u'note', u'6MDX3267')\n",
      "(u'note', u'CI88EKZF')\n",
      "(u'note', u'XRIF2IXV')\n",
      "(u'attachment', u'KAGN25QJ')\n",
      "(u'attachment', u'KAGN25QJ')\n",
      "(u'attachment', u'KAGN25QJ')\n",
      "(u'Extracting the hierarchical organization of complex systems', u'KAGN25QJ')\n",
      "(u'attachment', u'67ZFHT9U')\n",
      "(u'attachment', u'67ZFHT9U')\n",
      "(u'Uncovering the overlapping community structure of complex networks in nature and society', u'67ZFHT9U')\n",
      "(u'note', u'CI88EKZF')\n",
      "(u'attachment', u'CI88EKZF')\n",
      "(u'Clustering: Science or art?', u'CI88EKZF')\n",
      "(u'attachment', u'XRIF2IXV')\n",
      "(u'An impossibility theorem for clustering', u'XRIF2IXV')\n",
      "(u'attachment', u'UZJC8X7R')\n",
      "(u'attachment', u'UZJC8X7R')\n",
      "(u'Incompatibility boundaries for properties of community partitions', u'UZJC8X7R')\n",
      "(u'note', u'KFT8EPDQ')\n",
      "(u'note', u'KFT8EPDQ')\n",
      "(u'attachment', u'RRQ97VMU')\n",
      "(u'Community detection in graphs', u'RRQ97VMU')\n",
      "(u'attachment', u'RRQ97VMU')\n",
      "(u'attachment', u'KFT8EPDQ')\n",
      "(u'attachment', u'KFT8EPDQ')\n",
      "(u'The ground truth about metadata and community detection in networks', u'KFT8EPDQ')\n",
      "(u'attachment', u'FT3RM32F')\n",
      "(u'attachment', u'FT3RM32F')\n",
      "(u'The many facets of community detection in complex networks', u'FT3RM32F')\n",
      "(u'note', u'FT3RM32F')\n",
      "(u'attachment', u'6MDX3267')\n",
      "(u'Detecting community structure in networks', u'6MDX3267')\n",
      "(u'attachment', u'U9NGGW2Z')\n",
      "(u'attachment', u'U9NGGW2Z')\n",
      "(u'Hierarchical structure and the prediction of missing links in networks', u'U9NGGW2Z')\n",
      "(u'attachment', u'WBK345IS')\n",
      "(u'attachment', u'WBK345IS')\n",
      "(u'Finding community structure in networks using the eigenvectors of matrices', u'WBK345IS')\n",
      "(u'attachment', u'9AR6C6WG')\n",
      "(u'attachment', u'9AR6C6WG')\n",
      "(u'attachment', u'9AR6C6WG')\n",
      "(u'Community structure in social and biological networks', u'9AR6C6WG')\n"
     ]
    }
   ],
   "source": [
    "for k, v in subcoll_items.iteritems():\n",
    "    print(v['name'])\n",
    "    for item in v['items']:\n",
    "        if item.get('parentItem'):\n",
    "            print(item['itemType'], item['parentItem'])\n",
    "        else:\n",
    "            print(item['title'], item['key'])"
   ]
  },
  {
   "cell_type": "code",
   "execution_count": 7,
   "metadata": {
    "collapsed": false,
    "scrolled": true
   },
   "outputs": [
    {
     "name": "stdout",
     "output_type": "stream",
     "text": [
      "evaluation\n",
      "community_detection_dynamical\n",
      "ranking\n",
      "applications_of_community_detection\n",
      "visualizing_networks\n",
      "importance_of_community_detection\n"
     ]
    },
    {
     "data": {
      "text/plain": [
       "{u'accessDate': u'2017-05-02T22:27:44Z',\n",
       " u'charset': u'utf-8',\n",
       " u'contentType': u'application/pdf',\n",
       " u'dateAdded': u'2017-05-02T22:27:44Z',\n",
       " u'dateModified': u'2017-05-02T22:27:56Z',\n",
       " u'filename': u'1611.07769.pdf',\n",
       " u'itemType': u'attachment',\n",
       " u'key': u'65JZ3UNZ',\n",
       " u'linkMode': u'imported_url',\n",
       " u'md5': None,\n",
       " u'mtime': None,\n",
       " u'note': u'',\n",
       " u'parentItem': u'FT3RM32F',\n",
       " u'relations': {},\n",
       " u'tags': [],\n",
       " u'title': u'1611.07769.pdf',\n",
       " u'url': u'https://arxiv.org/pdf/1611.07769.pdf',\n",
       " u'version': 736}"
      ]
     },
     "execution_count": 7,
     "metadata": {},
     "output_type": "execute_result"
    }
   ],
   "source": [
    "for k, v in subcoll_items.iteritems():\n",
    "    print(v['name'])\n",
    "    for item in v['items']:\n",
    "        if item.get('itemType') == 'attachment':\n",
    "            break\n",
    "item"
   ]
  },
  {
   "cell_type": "code",
   "execution_count": 8,
   "metadata": {
    "collapsed": false
   },
   "outputs": [
    {
     "name": "stderr",
     "output_type": "stream",
     "text": [
      "09:34:23 requests.packages.urllib3.connectionpool.805 INFO : Starting new HTTPS connection (1): api.zotero.org\n",
      "09:34:24 requests.packages.urllib3.connectionpool.805 INFO : Starting new HTTPS connection (1): api.zotero.org\n",
      "09:34:25 requests.packages.urllib3.connectionpool.805 INFO : Starting new HTTPS connection (1): api.zotero.org\n",
      "09:34:27 requests.packages.urllib3.connectionpool.805 INFO : Starting new HTTPS connection (1): api.zotero.org\n",
      "09:34:29 requests.packages.urllib3.connectionpool.805 INFO : Starting new HTTPS connection (1): api.zotero.org\n",
      "09:34:31 requests.packages.urllib3.connectionpool.805 INFO : Starting new HTTPS connection (1): api.zotero.org\n",
      "09:34:32 requests.packages.urllib3.connectionpool.805 INFO : Starting new HTTPS connection (1): api.zotero.org\n"
     ]
    }
   ],
   "source": [
    "subcolls = zot.collections_sub(coll_id)\n",
    "subcoll_items = {}\n",
    "for subcoll in subcolls:\n",
    "    subcoll = subcoll['data']\n",
    "    k = subcoll['key']\n",
    "    subcoll_items[k] = {'name': subcoll['name']}\n",
    "    items = zot.collection_items(k)\n",
    "    # subcoll_items[k]['items'] = [item['data'] for item in items]\n",
    "    subcoll_items[k]['items'] = items"
   ]
  },
  {
   "cell_type": "code",
   "execution_count": 9,
   "metadata": {
    "collapsed": false
   },
   "outputs": [
    {
     "name": "stdout",
     "output_type": "stream",
     "text": [
      "evaluation\n",
      "community_detection_dynamical\n",
      "ranking\n",
      "applications_of_community_detection\n",
      "visualizing_networks\n",
      "importance_of_community_detection\n"
     ]
    },
    {
     "data": {
      "text/plain": [
       "{u'data': {u'accessDate': u'2017-05-02T22:27:44Z',\n",
       "  u'charset': u'utf-8',\n",
       "  u'contentType': u'application/pdf',\n",
       "  u'dateAdded': u'2017-05-02T22:27:44Z',\n",
       "  u'dateModified': u'2017-05-02T22:27:56Z',\n",
       "  u'filename': u'1611.07769.pdf',\n",
       "  u'itemType': u'attachment',\n",
       "  u'key': u'65JZ3UNZ',\n",
       "  u'linkMode': u'imported_url',\n",
       "  u'md5': None,\n",
       "  u'mtime': None,\n",
       "  u'note': u'',\n",
       "  u'parentItem': u'FT3RM32F',\n",
       "  u'relations': {},\n",
       "  u'tags': [],\n",
       "  u'title': u'1611.07769.pdf',\n",
       "  u'url': u'https://arxiv.org/pdf/1611.07769.pdf',\n",
       "  u'version': 736},\n",
       " u'key': u'65JZ3UNZ',\n",
       " u'library': {u'id': 2363881,\n",
       "  u'links': {u'alternate': {u'href': u'https://www.zotero.org/jasonport',\n",
       "    u'type': u'text/html'}},\n",
       "  u'name': u'jasonport',\n",
       "  u'type': u'user'},\n",
       " u'links': {u'alternate': {u'href': u'https://www.zotero.org/jasonport/items/65JZ3UNZ',\n",
       "   u'type': u'text/html'},\n",
       "  u'self': {u'href': u'https://api.zotero.org/users/2363881/items/65JZ3UNZ',\n",
       "   u'type': u'application/json'},\n",
       "  u'up': {u'href': u'https://api.zotero.org/users/2363881/items/FT3RM32F',\n",
       "   u'type': u'application/json'}},\n",
       " u'meta': {},\n",
       " u'version': 736}"
      ]
     },
     "execution_count": 9,
     "metadata": {},
     "output_type": "execute_result"
    }
   ],
   "source": [
    "for k, v in subcoll_items.iteritems():\n",
    "    print(v['name'])\n",
    "    for item in v['items']:\n",
    "        if item['data'].get('itemType') == 'attachment':\n",
    "            break\n",
    "item"
   ]
  },
  {
   "cell_type": "code",
   "execution_count": null,
   "metadata": {
    "collapsed": true
   },
   "outputs": [],
   "source": []
  }
 ],
 "metadata": {
  "kernelspec": {
   "display_name": "Python 2",
   "language": "python",
   "name": "python2"
  },
  "language_info": {
   "codemirror_mode": {
    "name": "ipython",
    "version": 2
   },
   "file_extension": ".py",
   "mimetype": "text/x-python",
   "name": "python",
   "nbconvert_exporter": "python",
   "pygments_lexer": "ipython2",
   "version": "2.7.12"
  }
 },
 "nbformat": 4,
 "nbformat_minor": 1
}
